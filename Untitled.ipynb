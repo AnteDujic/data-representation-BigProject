{
 "cells": [
  {
   "cell_type": "markdown",
   "id": "38071c50-0bea-41ed-bf5a-4f5b7fbac68d",
   "metadata": {},
   "source": [
    "# MODULE: Data Representation\n",
    "## AUTHOR: Ante Dujic\n",
    "\n",
    "***"
   ]
  },
  {
   "cell_type": "markdown",
   "id": "7185feb6-914c-4b5a-884c-bf03a53aefe3",
   "metadata": {},
   "source": [
    "\n",
    "This repository contains the work done as a project for the Data Representation module as part of the HDip in Data Analytics, ATU. The aim of the project was to demonstrate the understanding how to create and consume RESTful APIs. This repository has the following structure: "
   ]
  },
  {
   "cell_type": "markdown",
   "id": "53fa48ce-5484-4667-bc1c-36b9b05cbdbe",
   "metadata": {},
   "source": [
    "```\n",
    "data-representation-BigProject\n",
    "│   .gitignore\n",
    "│   README.md\n",
    "│   dao.py \n",
    "│   dbconfigtemplate.py \n",
    "│   requirements.txt\n",
    "│   server.py \n",
    "│\n",
    "└───createDB\n",
    "│   │   createDatabase.py\n",
    "│   │   createTable.py\n",
    "│   \n",
    "└───pages\n",
    "│   │   index.html\n",
    "│   │   indexOne.html\n",
    "│   │   login.html\n",
    "│   │   profile.html\n",
    "│   \n",
    "└───staticpages\n",
    "│   │   login.html\n",
    "│   │\n",
    "│   └───img\n",
    "│       │   destination.jpg\n",
    "│       │   hand.jpg\n",
    "│       │   paperplane.jpg\n",
    "│       │   plane.jpg\n",
    "│       │   world.jpg\n",
    "```"
   ]
  },
  {
   "cell_type": "code",
   "execution_count": null,
   "id": "eabaf47c-6401-445c-b719-c1f179ea9641",
   "metadata": {},
   "outputs": [],
   "source": []
  }
 ],
 "metadata": {
  "kernelspec": {
   "display_name": "Python 3",
   "language": "python",
   "name": "python3"
  },
  "language_info": {
   "codemirror_mode": {
    "name": "ipython",
    "version": 3
   },
   "file_extension": ".py",
   "mimetype": "text/x-python",
   "name": "python",
   "nbconvert_exporter": "python",
   "pygments_lexer": "ipython3",
   "version": "3.8.8"
  }
 },
 "nbformat": 4,
 "nbformat_minor": 5
}
