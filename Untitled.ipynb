{
 "cells": [
  {
   "cell_type": "markdown",
   "id": "38071c50-0bea-41ed-bf5a-4f5b7fbac68d",
   "metadata": {},
   "source": [
    "# MODULE: Data Representation\n",
    "## AUTHOR: Ante Dujic\n",
    "\n",
    "***"
   ]
  },
  {
   "cell_type": "markdown",
   "id": "7185feb6-914c-4b5a-884c-bf03a53aefe3",
   "metadata": {},
   "source": [
    "\n",
    "This repository contains the work done as a project for the Data Representation module as part of the HDip in Data Analytics, ATU. The aim of the project was to demonstrate the understanding how to create and consume RESTful APIs. This repository has the following structure: "
   ]
  },
  {
   "cell_type": "markdown",
   "id": "53fa48ce-5484-4667-bc1c-36b9b05cbdbe",
   "metadata": {},
   "source": [
    "```\n",
    "data-representation-BigProject\n",
    "│   .gitignore\n",
    "│   README.md\n",
    "│   dao.py \n",
    "│   dbconfigtemplate.py \n",
    "│   requirements.txt\n",
    "│   server.py \n",
    "│\n",
    "└───createDB\n",
    "│   │   createDatabase.py\n",
    "│   │   createTable.py\n",
    "│   \n",
    "└───pages\n",
    "│   │   index.html\n",
    "│   │   indexOne.html\n",
    "│   │   login.html\n",
    "│   │   profile.html\n",
    "│   \n",
    "└───staticpages\n",
    "│   │   login.html\n",
    "│   │\n",
    "│   └───img\n",
    "│       │   destination.jpg\n",
    "│       │   hand.jpg\n",
    "│       │   paperplane.jpg\n",
    "│       │   plane.jpg\n",
    "│       │   world.jpg\n",
    "```"
   ]
  },
  {
   "cell_type": "markdown",
   "id": "14cfae5b-0c13-48b0-8a1e-afb250fde016",
   "metadata": {},
   "source": [
    "### FILE DETAILS"
   ]
  },
  {
   "cell_type": "markdown",
   "id": "12d9fc4a-00aa-48c0-83e7-70d3d4733216",
   "metadata": {},
   "source": [
    "File | Description\n",
    "-|-\n",
    "server.py | Main app to define login and Flask commands\n",
    "dao.py | Program to connect server to the mySQL queries\n",
    "dbconfigtemplate.py | Program for setting mySQL details - rename to dbconfig.py and fill your details when running the project\n",
    "requirements.txt | Libraries used to run the app - use to install to your local machine (or VM)\n",
    "README.md | This readme"
   ]
  },
  {
   "cell_type": "markdown",
   "id": "bf4b1c9f-7434-4657-b5fd-eb4232aae9c9",
   "metadata": {},
   "source": [
    "##### createDB"
   ]
  },
  {
   "cell_type": "markdown",
   "id": "47958b38-7907-40a3-9767-4dba027a3508",
   "metadata": {},
   "source": [
    "File | Description\n",
    "-|-\n",
    "createDatabase.py | Program to create database on your machine\n",
    "createTable.py | Program to create table on your machine\n"
   ]
  },
  {
   "cell_type": "markdown",
   "id": "df1f4d76-e676-4dd1-a35f-bea64807c8a5",
   "metadata": {},
   "source": [
    "##### pages"
   ]
  },
  {
   "cell_type": "markdown",
   "id": "abd1a104-e42a-45d3-bfef-7e3f56950e50",
   "metadata": {},
   "source": [
    "File | Description\n",
    "-|-\n",
    "login.html | Page to redirect to when credentials are incorect\n",
    "profile.html | Home page, entered when logged in correctly\n",
    "index.html | Page that handles the created restAPI, using AJAX\n",
    "indexOne.html | Page that handles third party restAPI, using AJAX"
   ]
  },
  {
   "cell_type": "markdown",
   "id": "8e04857c-e8ec-464f-ac0f-ed50a10fc533",
   "metadata": {},
   "source": [
    "##### staticpages"
   ]
  },
  {
   "cell_type": "markdown",
   "id": "8c424eda-0d35-48f4-b85d-916aae0aab71",
   "metadata": {},
   "source": [
    "File | Description\n",
    "-|-\n",
    "login.html | Page to redirect to when credentials are incorect"
   ]
  },
  {
   "cell_type": "markdown",
   "id": "c0fd7115-6766-463f-a1f7-1a76aa75550c",
   "metadata": {},
   "source": [
    "##### img"
   ]
  },
  {
   "cell_type": "markdown",
   "id": "d6396814-97db-45a5-b2fb-ef00cfac286f",
   "metadata": {},
   "source": [
    "Contains images for html."
   ]
  },
  {
   "cell_type": "markdown",
   "id": "c303f888-e7a2-4b61-b94f-c70b72b3a1c2",
   "metadata": {},
   "source": [
    "### THIRD PARTY restAPI\n",
    "***"
   ]
  },
  {
   "cell_type": "markdown",
   "id": "351fc0b5-078a-41b0-9b29-6f2b88ea6cd2",
   "metadata": {},
   "source": [
    "https://developer.roadgoat.com/#introduction"
   ]
  },
  {
   "cell_type": "markdown",
   "id": "5cc30030-00e6-4057-acfe-287f36038bc9",
   "metadata": {},
   "source": [
    "This api requires the credentials (access and secret key) to make requests. They can be obtained by registering to the page. Keys obtained of the free registration are limited to a 1000 requests, which is deemed sufficient for this project. Keys are included in the AJAX calls in *indexOne.html*. Having keys publicly visible is not a recommendation but considering it's free and only used for demonstration perposes it is included in the code."
   ]
  },
  {
   "cell_type": "markdown",
   "id": "d937b111-892f-4104-9ee2-d420b30fa0cf",
   "metadata": {},
   "source": [
    "### HOW TO RUN THE PROJECT\n",
    "***"
   ]
  },
  {
   "cell_type": "markdown",
   "id": "8476107c-8587-4e9b-8414-78e77be31c08",
   "metadata": {},
   "source": [
    "Autentification details:"
   ]
  },
  {
   "cell_type": "markdown",
   "id": "09160a74-7a93-4013-8247-e543dd77b7b5",
   "metadata": {},
   "source": [
    "Username | Password\n",
    "-|-\n",
    "Andrew | lecturer\n",
    "Ante | student"
   ]
  },
  {
   "cell_type": "markdown",
   "id": "90350e59-9b96-4cbf-b0aa-b499929abc11",
   "metadata": {},
   "source": [
    "#### 1. PYTHONANYWHERE"
   ]
  },
  {
   "cell_type": "markdown",
   "id": "a673f11d-55da-4ada-acee-257449dd0379",
   "metadata": {},
   "source": [
    "LINK: http://antedujic.pythonanywhere.com/"
   ]
  },
  {
   "cell_type": "markdown",
   "id": "6096c2ef-c4f7-4150-be8a-5f96a04f38e6",
   "metadata": {},
   "source": [
    "#### 2. LOCALLY"
   ]
  },
  {
   "cell_type": "markdown",
   "id": "4a586708-811a-4342-a323-ffe976f0397d",
   "metadata": {},
   "source": [
    "1. Clone this repository\n",
    "2. Install the libraries from *requirements.txt*\n",
    "3. Add your mySQL details to the *dbconfigtemplate.py* file and rename it to dbconfig.py\n",
    "5. Run *createDatabase.py*\n",
    "6. Run *createTable.py*\n",
    "7. Run *server.py*\n",
    "8. Open your browser and run http://127.0.0.1:5000/\n"
   ]
  }
 ],
 "metadata": {
  "kernelspec": {
   "display_name": "Python 3",
   "language": "python",
   "name": "python3"
  },
  "language_info": {
   "codemirror_mode": {
    "name": "ipython",
    "version": 3
   },
   "file_extension": ".py",
   "mimetype": "text/x-python",
   "name": "python",
   "nbconvert_exporter": "python",
   "pygments_lexer": "ipython3",
   "version": "3.8.8"
  }
 },
 "nbformat": 4,
 "nbformat_minor": 5
}
